{
 "cells": [
  {
   "cell_type": "code",
   "execution_count": 1,
   "metadata": {},
   "outputs": [
    {
     "ename": "",
     "evalue": "",
     "output_type": "error",
     "traceback": [
      "\u001b[1;31mCannot execute code, session has been disposed. Please try restarting the Kernel."
     ]
    },
    {
     "ename": "",
     "evalue": "",
     "output_type": "error",
     "traceback": [
      "\u001b[1;31mThe Kernel crashed while executing code in the the current cell or a previous cell. Please review the code in the cell(s) to identify a possible cause of the failure. Click <a href='https://aka.ms/vscodeJupyterKernelCrash'>here</a> for more info. View Jupyter <a href='command:jupyter.viewOutput'>log</a> for further details."
     ]
    }
   ],
   "source": [
    "import pandas as pd, numpy as np ,os\n",
    "working_directory = os.getcwd()\n",
    "\n",
    "import torch\n",
    "import torch.nn as nn\n",
    "import torch.optim as optim\n",
    "from torch.utils.data import Dataset, DataLoader\n",
    "from sklearn.model_selection import train_test_split\n",
    "from sklearn.preprocessing import StandardScaler\n",
    "\n",
    "import matplotlib.pyplot as plt"
   ]
  },
  {
   "cell_type": "code",
   "execution_count": 6,
   "metadata": {},
   "outputs": [],
   "source": [
    "\n",
    "# Load your dataset\n",
    "tmqm_data = pd.read_csv(working_directory+'/tmQM_y.csv', sep=';', header=0)\n",
    "\n",
    "features = [\"Electronic_E\", \"Dispersion_E\", \"Dipole_M\", \"Metal_q\", \"HOMO_Energy\", \"LUMO_Energy\", \"Polarizability\"]\n",
    "target = [\"HL_Gap\"]\n",
    "\n",
    "# Split dataset into features (X) and target (y)\n",
    "X = tmqm_data[features].values\n",
    "y = tmqm_data[target].values\n",
    "\n",
    "# Scale features\n",
    "scaler = StandardScaler()\n",
    "X = scaler.fit_transform(X)\n",
    "\n",
    "# Split dataset into train and test sets\n",
    "X_train, X_test, y_train, y_test = train_test_split(X, y, test_size=0.2, random_state=42)\n"
   ]
  },
  {
   "cell_type": "code",
   "execution_count": 7,
   "metadata": {},
   "outputs": [],
   "source": [
    "# Then, we can define a custom Dataset:\n",
    "\n",
    "class CustomDataset(Dataset):\n",
    "    def __init__(self, features, targets):\n",
    "        self.features = features\n",
    "        self.targets = targets\n",
    "\n",
    "    def __len__(self):\n",
    "        return len(self.features)\n",
    "\n",
    "    def __getitem__(self, idx):\n",
    "        return torch.tensor(self.features[idx], dtype=torch.float), torch.tensor(self.targets[idx], dtype=torch.float)\n"
   ]
  },
  {
   "cell_type": "code",
   "execution_count": 8,
   "metadata": {},
   "outputs": [],
   "source": [
    "# define our NN model \n",
    "\n",
    "class Net(nn.Module):\n",
    "    def __init__(self, input_size, hidden_size, output_size):\n",
    "        super(Net, self).__init__()\n",
    "        self.fc1 = nn.Linear(input_size, hidden_size)\n",
    "        self.relu = nn.ReLU()\n",
    "        self.fc2 = nn.Linear(hidden_size, output_size)\n",
    "\n",
    "    def forward(self, x):\n",
    "        out = self.fc1(x)\n",
    "        out = self.relu(out)\n",
    "        out = self.fc2(out)\n",
    "        return out\n"
   ]
  },
  {
   "cell_type": "code",
   "execution_count": 9,
   "metadata": {},
   "outputs": [],
   "source": [
    "# Initialize Datasets\n",
    "train_data = CustomDataset(X_train, y_train)\n",
    "test_data = CustomDataset(X_test, y_test)\n",
    "\n",
    "# Initialize DataLoaders\n",
    "train_loader = DataLoader(dataset=train_data, batch_size=16, shuffle=True)\n",
    "test_loader = DataLoader(dataset=test_data, batch_size=1, shuffle=False)\n",
    "\n",
    "# Initialize Model\n",
    "input_size = len(features)\n",
    "hidden_size = 50  # you can modify this\n",
    "output_size = 1  # we only have one target variable\n",
    "\n",
    "model = Net(input_size, hidden_size, output_size)\n"
   ]
  },
  {
   "attachments": {},
   "cell_type": "markdown",
   "metadata": {},
   "source": [
    "Training loops over `combination` of optimizers: `SGD, Adam` and Learning Rate: `0.001 and 0.01`"
   ]
  },
  {
   "cell_type": "code",
   "execution_count": 17,
   "metadata": {},
   "outputs": [
    {
     "name": "stdout",
     "output_type": "stream",
     "text": [
      "Epoch 10, Loss: 1.3456624703422904e-10\n",
      "Epoch 20, Loss: 2.0629005348382634e-07\n",
      "Epoch 30, Loss: 3.9092895587344856e-12\n",
      "Epoch 40, Loss: 1.0391829619038617e-08\n",
      "Epoch 50, Loss: 5.627040500222336e-10\n",
      "Epoch 60, Loss: 4.933363439985072e-11\n",
      "Epoch 70, Loss: 7.30977376406372e-08\n",
      "Epoch 80, Loss: 1.4977602491583752e-14\n",
      "Epoch 90, Loss: 1.5973027345239643e-08\n",
      "Epoch 100, Loss: 4.590772206825022e-14\n"
     ]
    }
   ],
   "source": [
    "# Loss and optimizer\n",
    "criterion = nn.MSELoss()\n",
    "optimizer = torch.optim.Adam(model.parameters(), lr=0.001)  # you can adjust the learning rate\n",
    "\n",
    "train_losses = []\n",
    "test_losses = []\n",
    "\n",
    "# Training loop\n",
    "for epoch in range(100):  # you can adjust the number of epochs\n",
    "    for i, (features, labels) in enumerate(train_loader):\n",
    "        y_pred_train = model(features)\n",
    "        loss_train = criterion(y_pred_train, labels)\n",
    "\n",
    "        optimizer.zero_grad()\n",
    "        loss.backward()\n",
    "        optimizer.step()\n",
    "\n",
    "    # Save the training loss for this epoch\n",
    "    train_losses.append(loss_train.item())\n",
    "\n",
    "    model.eval()  # switch to evaluation mode\n",
    "    with torch.no_grad():  # disable gradient computation to save memory\n",
    "        total_loss = 0\n",
    "        total_samples = 0\n",
    "        for features, labels in test_loader:  #  DataLoader for the test set\n",
    "            y_pred_test = model(features)\n",
    "            loss = criterion(y_pred_test, labels)\n",
    "            total_loss += loss.item() * features.size(0)  # multiply by batch size to undo average\n",
    "            total_samples += features.size(0)\n",
    "        avg_test_loss = total_loss / total_samples  # compute average loss\n",
    "         # Save the test loss for this epoch\n",
    "        test_losses.append(avg_test_loss)\n",
    "        \n",
    "    if (epoch + 1) % 20 == 0:\n",
    "        print(f'Epoch {epoch+1}, Train Loss: {loss.item()}, Avg Test Loss: {avg_test_loss}')\n"
   ]
  },
  {
   "cell_type": "code",
   "execution_count": 32,
   "metadata": {},
   "outputs": [
    {
     "name": "stdout",
     "output_type": "stream",
     "text": [
      "Epoch 20, Train Loss: 4.112434180569835e-05, Test Loss: 0.00016249158689176626\n",
      "Epoch 40, Train Loss: 2.2356631234288216e-05, Test Loss: 8.335583325829852e-05\n",
      "Epoch 60, Train Loss: 7.778178769513033e-06, Test Loss: 5.519842700751837e-05\n",
      "Epoch 80, Train Loss: 1.5205929457806633e-06, Test Loss: 4.1906605980236125e-05\n",
      "Epoch 100, Train Loss: 2.1808778782883564e-08, Test Loss: 3.466613607158175e-05\n"
     ]
    }
   ],
   "source": [
    "# Loss and optimizer\n",
    "criterion = nn.MSELoss()\n",
    "optimizer = torch.optim.SGD(model.parameters(), lr=0.001)  # you can adjust the learning rate\n",
    "\n",
    "train_losses = []\n",
    "test_losses = []\n",
    "\n",
    "# Training loop\n",
    "for epoch in range(100):  # you can adjust the number of epochs\n",
    "    for i, (features, labels) in enumerate(train_loader):\n",
    "        y_pred_train = model(features)\n",
    "        loss = criterion(y_pred_train, labels)\n",
    "\n",
    "        optimizer.zero_grad()\n",
    "        loss.backward()\n",
    "        optimizer.step()\n",
    "    # Save the training loss for this epoch\n",
    "    train_losses.append(loss.item())\n",
    "\n",
    "    model.eval()  # switch to evaluation mode\n",
    "    with torch.no_grad():  # disable gradient computation to save memory\n",
    "        total_loss = 0\n",
    "        total_samples = 0\n",
    "        for features, labels in test_loader:  # assume you have a DataLoader for the test set\n",
    "            y_pred_test = model(features)\n",
    "            loss = criterion(y_pred_test, labels)\n",
    "            total_loss += loss.item() * features.size(0)  # multiply by batch size to undo average\n",
    "            total_samples += features.size(0)\n",
    "        avg_test_loss = total_loss / total_samples  # compute average loss\n",
    "        \n",
    "         # Save the test loss for this epoch\n",
    "        test_losses.append(avg_test_loss)\n",
    "        \n",
    "    if (epoch + 1) % 20 == 0:\n",
    "        print(f'Epoch {epoch+1}, Train Loss: {loss.item()}, Avg Test Loss: {avg_test_loss}')"
   ]
  },
  {
   "cell_type": "code",
   "execution_count": 34,
   "metadata": {},
   "outputs": [
    {
     "data": {
      "image/png": "[encoded data removed]",
      "text/plain": [
       "<Figure size 432x288 with 1 Axes>"
      ]
     },
     "metadata": {
      "needs_background": "light"
     },
     "output_type": "display_data"
    }
   ],
   "source": [
    "# Plot the training and testing losses\n",
    "plt.plot(train_losses, label='Training loss')\n",
    "plt.plot(test_losses, label='Testing loss')\n",
    "plt.xlabel(\"epoch\")\n",
    "plt.ylabel(\"MSE\")\n",
    "plt.legend()\n",
    "plt.title('SGD & Learning rate = 0.001')\n",
    "plt.show()"
   ]
  },
  {
   "cell_type": "code",
   "execution_count": 19,
   "metadata": {},
   "outputs": [
    {
     "name": "stdout",
     "output_type": "stream",
     "text": [
      "Epoch 10, Loss: 1.2584215891564554e-09\n",
      "Epoch 20, Loss: 3.5438654322206276e-07\n",
      "Epoch 30, Loss: 2.4979435186978094e-10\n",
      "Epoch 40, Loss: 2.807813643812551e-07\n",
      "Epoch 50, Loss: 9.409069434695994e-08\n",
      "Epoch 60, Loss: 7.391890903818421e-07\n",
      "Epoch 70, Loss: 1.0198602851119176e-08\n",
      "Epoch 80, Loss: 5.733011398945109e-09\n",
      "Epoch 90, Loss: 5.812207746203057e-07\n",
      "Epoch 100, Loss: 2.471201241860399e-06\n"
     ]
    }
   ],
   "source": [
    "# Loss and optimizer\n",
    "criterion = nn.MSELoss()\n",
    "optimizer = torch.optim.Adam(model.parameters(), lr=0.01)  # you can adjust the learning rate\n",
    "\n",
    "# Training loop\n",
    "for epoch in range(100):  # you can adjust the number of epochs\n",
    "    for i, (features, labels) in enumerate(train_loader):\n",
    "        outputs = model(features)\n",
    "        loss = criterion(outputs, labels)\n",
    "\n",
    "        optimizer.zero_grad()\n",
    "        loss.backward()\n",
    "        optimizer.step()\n",
    "\n",
    "    model.eval()  # switch to evaluation mode\n",
    "    with torch.no_grad():  # disable gradient computation to save memory\n",
    "        total_loss = 0\n",
    "        total_samples = 0\n",
    "        for features, labels in test_loader:  # assume you have a DataLoader for the test set\n",
    "            outputs = model(features)\n",
    "            loss = criterion(outputs, labels)\n",
    "            total_loss += loss.item() * features.size(0)  # multiply by batch size to undo average\n",
    "            total_samples += features.size(0)\n",
    "        avg_test_loss = total_loss / total_samples  # compute average loss\n",
    "\n",
    "    if (epoch + 1) % 10 == 0:\n",
    "        print(f'Epoch {epoch+1}, Train Loss: {loss.item()}, Avg Test Loss: {avg_test_loss}')"
   ]
  },
  {
   "cell_type": "code",
   "execution_count": 10,
   "metadata": {},
   "outputs": [
    {
     "name": "stdout",
     "output_type": "stream",
     "text": [
      "Epoch 20, Train Loss: 9.066408892977051e-06, Test Loss: 1.9340487329947004e-05\n",
      "Epoch 40, Train Loss: 2.433933559586876e-06, Test Loss: 1.509068158401062e-05\n",
      "Epoch 60, Train Loss: 1.2835255347454222e-06, Test Loss: 1.2970361772312934e-05\n",
      "Epoch 80, Train Loss: 2.2099573016021168e-07, Test Loss: 1.1540311184621766e-05\n",
      "Epoch 100, Train Loss: 3.052044235118956e-07, Test Loss: 1.0193913266519955e-05\n"
     ]
    }
   ],
   "source": [
    "# Loss and optimizer\n",
    "criterion = nn.MSELoss()\n",
    "optimizer = torch.optim.SGD(model.parameters(), lr=0.01)  # you can adjust the learning rate\n",
    "\n",
    "train_losses = []\n",
    "test_losses = []\n",
    "\n",
    "# Training loop\n",
    "for epoch in range(100):  # you can adjust the number of epochs\n",
    "    for i, (features, labels) in enumerate(train_loader):\n",
    "        outputs = model(features)\n",
    "        loss = criterion(outputs, labels)\n",
    "\n",
    "        optimizer.zero_grad()\n",
    "        loss.backward()\n",
    "        optimizer.step()\n",
    "    # Save the training loss for this epoch\n",
    "    train_losses.append(loss.item())\n",
    "    \n",
    "    model.eval()  # switch to evaluation mode\n",
    "    with torch.no_grad():  # disable gradient computation to save memory\n",
    "        total_loss = 0\n",
    "        total_samples = 0\n",
    "        for features, labels in test_loader:  # assume you have a DataLoader for the test set\n",
    "            outputs = model(features)\n",
    "            loss = criterion(outputs, labels)\n",
    "            \n",
    "            total_loss += loss.item() * features.size(0)  # multiply by batch size to undo average\n",
    "            total_samples += features.size(0)\n",
    "        avg_test_loss = total_loss / total_samples  # compute average loss\n",
    "\n",
    "        # Save the test loss for this epoch\n",
    "        test_losses.append(avg_test_loss)\n",
    "\n",
    "    if (epoch + 1) % 20 == 0:\n",
    "        print(f'Epoch {epoch+1}, Train Loss: {loss.item()}, Test Loss: {avg_test_loss}')\n",
    "\n",
    "   "
   ]
  },
  {
   "cell_type": "code",
   "execution_count": 12,
   "metadata": {},
   "outputs": [
    {
     "data": {
      "image/png": "[encoded data removed]",
      "text/plain": [
       "<Figure size 432x288 with 1 Axes>"
      ]
     },
     "metadata": {
      "needs_background": "light"
     },
     "output_type": "display_data"
    }
   ],
   "source": [
    "plt.plot(train_losses, label='Training loss')\n",
    "plt.plot(test_losses, label='Testing loss')\n",
    "plt.xlabel(\"epoch\")\n",
    "plt.ylabel(\"MSE\")\n",
    "plt.legend()\n",
    "plt.title('SGD & Learning rate = 0.01')\n",
    "plt.show()"
   ]
  }
 ],
 "metadata": {
  "kernelspec": {
   "display_name": "base",
   "language": "python",
   "name": "python3"
  },
  "language_info": {
   "codemirror_mode": {
    "name": "ipython",
    "version": 3
   },
   "file_extension": ".py",
   "mimetype": "text/x-python",
   "name": "python",
   "nbconvert_exporter": "python",
   "pygments_lexer": "ipython3",
   "version": "3.9.7"
  },
  "orig_nbformat": 4
 },
 "nbformat": 4,
 "nbformat_minor": 2
}
